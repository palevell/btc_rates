{
 "cells": [
  {
   "cell_type": "markdown",
   "id": "ae176c39-62d9-4508-a50d-f943f6b1eade",
   "metadata": {},
   "source": [
    "# How to get cryptocurrency prices via Python (Bitcoin, Ethereum)\n",
    "\n",
    "**Date:** Friday, December 6th, 2024  \n",
    "**URL:** https://www.youtube.com/watch?v=w6JqNyHNQnQ"
   ]
  },
  {
   "cell_type": "markdown",
   "id": "80896bca-524f-4be8-a3d9-f0dc54219508",
   "metadata": {},
   "source": [
    "## Notes\n",
    "\n",
    "- `yfinance` has changed since this video was made, so the code in the video is obsolete\n",
    "- `pandas_datareader` isn't really necessary"
   ]
  },
  {
   "cell_type": "markdown",
   "id": "5fd1e38d-cfbe-4fc4-8e95-b5897862c51c",
   "metadata": {},
   "source": [
    "## Code"
   ]
  },
  {
   "cell_type": "markdown",
   "id": "fa11b26f-17e6-4083-8d25-0188d4c51590",
   "metadata": {},
   "source": [
    "### Imports"
   ]
  },
  {
   "cell_type": "code",
   "execution_count": 1,
   "id": "10826313-5f8c-4d7b-ab17-3bee6775233c",
   "metadata": {},
   "outputs": [],
   "source": [
    "from datetime import datetime, timedelta\n",
    "\n",
    "import pandas as pd\n",
    "import yfinance as yf\n",
    "# from pandas_datareader import data as pdr"
   ]
  },
  {
   "cell_type": "markdown",
   "id": "afe4705f-8160-4127-b492-65d6b42bce02",
   "metadata": {},
   "source": [
    "### Fetch data from Yahoo Finance"
   ]
  },
  {
   "cell_type": "code",
   "execution_count": 20,
   "id": "d37915b0-3ecc-4504-85bb-af6bbec2ccf2",
   "metadata": {},
   "outputs": [
    {
     "name": "stderr",
     "output_type": "stream",
     "text": [
      "\n",
      "*********************100%***********************]  1 of 1 completed"
     ]
    },
    {
     "data": {
      "text/html": [
       "<div>\n",
       "<style scoped>\n",
       "    .dataframe tbody tr th:only-of-type {\n",
       "        vertical-align: middle;\n",
       "    }\n",
       "\n",
       "    .dataframe tbody tr th {\n",
       "        vertical-align: top;\n",
       "    }\n",
       "\n",
       "    .dataframe thead th {\n",
       "        text-align: right;\n",
       "    }\n",
       "</style>\n",
       "<table border=\"1\" class=\"dataframe\">\n",
       "  <thead>\n",
       "    <tr style=\"text-align: right;\">\n",
       "      <th></th>\n",
       "      <th>Adj Close</th>\n",
       "      <th>Close</th>\n",
       "      <th>High</th>\n",
       "      <th>Low</th>\n",
       "      <th>Open</th>\n",
       "      <th>Volume</th>\n",
       "    </tr>\n",
       "    <tr>\n",
       "      <th>Date</th>\n",
       "      <th></th>\n",
       "      <th></th>\n",
       "      <th></th>\n",
       "      <th></th>\n",
       "      <th></th>\n",
       "      <th></th>\n",
       "    </tr>\n",
       "  </thead>\n",
       "  <tbody>\n",
       "    <tr>\n",
       "      <th>2024-12-07</th>\n",
       "      <td>141472.75</td>\n",
       "      <td>141472.75</td>\n",
       "      <td>144396.4375</td>\n",
       "      <td>135361.15625</td>\n",
       "      <td>136092.71875</td>\n",
       "      <td>133847057868</td>\n",
       "    </tr>\n",
       "  </tbody>\n",
       "</table>\n",
       "</div>"
      ],
      "text/plain": [
       "            Adj Close      Close         High           Low          Open  \\\n",
       "Date                                                                        \n",
       "2024-12-07  141472.75  141472.75  144396.4375  135361.15625  136092.71875   \n",
       "\n",
       "                  Volume  \n",
       "Date                      \n",
       "2024-12-07  133847057868  "
      ]
     },
     "execution_count": 20,
     "metadata": {},
     "output_type": "execute_result"
    }
   ],
   "source": [
    "symbol = \"BTC-CAD\"\n",
    "# symbol = \"BTC-USD\"\n",
    "\n",
    "run_dt = datetime.now().astimezone()\n",
    "date_from = (run_dt - timedelta(days=1)).date()\n",
    "date_thru = datetime.now().date()\n",
    "\n",
    "df = yf.download(symbol, start=date_from, end=date_thru, interval=\"1d\", multi_level_index=False)\n",
    "df.tail(3)"
   ]
  },
  {
   "cell_type": "markdown",
   "id": "35137d31-864f-4711-8ec0-fd447a414d0d",
   "metadata": {},
   "source": [
    "### Adjust Columns\n",
    "- Drop `Adj Close`\n",
    "- Convert to lower case and remove spaces\n",
    "- Shorten column names where practical\n",
    "- Add column for symbol\n",
    "- Reorder"
   ]
  },
  {
   "cell_type": "code",
   "execution_count": 21,
   "id": "b45bd43c-b666-4a4f-ab17-f8338865eb7d",
   "metadata": {},
   "outputs": [
    {
     "data": {
      "text/html": [
       "<div>\n",
       "<style scoped>\n",
       "    .dataframe tbody tr th:only-of-type {\n",
       "        vertical-align: middle;\n",
       "    }\n",
       "\n",
       "    .dataframe tbody tr th {\n",
       "        vertical-align: top;\n",
       "    }\n",
       "\n",
       "    .dataframe thead th {\n",
       "        text-align: right;\n",
       "    }\n",
       "</style>\n",
       "<table border=\"1\" class=\"dataframe\">\n",
       "  <thead>\n",
       "    <tr style=\"text-align: right;\">\n",
       "      <th></th>\n",
       "      <th>symbol</th>\n",
       "      <th>price</th>\n",
       "    </tr>\n",
       "    <tr>\n",
       "      <th>date_id</th>\n",
       "      <th></th>\n",
       "      <th></th>\n",
       "    </tr>\n",
       "  </thead>\n",
       "  <tbody>\n",
       "    <tr>\n",
       "      <th>2024-12-07</th>\n",
       "      <td>BTC-CAD</td>\n",
       "      <td>141472.75</td>\n",
       "    </tr>\n",
       "  </tbody>\n",
       "</table>\n",
       "</div>"
      ],
      "text/plain": [
       "             symbol      price\n",
       "date_id                       \n",
       "2024-12-07  BTC-CAD  141472.75"
      ]
     },
     "execution_count": 21,
     "metadata": {},
     "output_type": "execute_result"
    }
   ],
   "source": [
    "# Add column for symbol\n",
    "df.loc[:,\"symbol\"] = symbol\n",
    "# Rename index & columns\n",
    "df.index.name = \"date_id\"\n",
    "df.rename(columns={\"Close\": \"price\",}, inplace=True)\n",
    "# Only keep symbol and closing price\n",
    "df = df[[\"symbol\", \"price\"]]\n",
    "df.tail(3)"
   ]
  },
  {
   "cell_type": "markdown",
   "id": "a171bda5-d462-43e0-ba87-fe03e39820fe",
   "metadata": {},
   "source": [
    "### Connect to Database"
   ]
  },
  {
   "cell_type": "code",
   "execution_count": 4,
   "id": "7b02dc11-5bb4-4b63-90bc-11934cb4a0a9",
   "metadata": {},
   "outputs": [],
   "source": [
    "import sqlalchemy as sa\n",
    "from sqlalchemy import create_engine, text"
   ]
  },
  {
   "cell_type": "code",
   "execution_count": 5,
   "id": "671132f6-527f-4706-b10e-4c387d3f9fa6",
   "metadata": {},
   "outputs": [],
   "source": [
    "db_url = \"postgresql+psycopg://localhost/patrick\"\n",
    "db_schema = \"btc_rates\"\n",
    "\n",
    "engine = create_engine(db_url, echo=False)\n",
    "\n",
    "@sa.event.listens_for(engine, \"connect\", insert=True)\n",
    "def set_search_path(dbapi_connection, connection_record):\n",
    "    \"\"\"\n",
    "    Set schema search path in database\n",
    "    \"\"\"\n",
    "    sql = f\"SET SESSION search_path TO {db_schema},public;\"\n",
    "    existing_autocommit = dbapi_connection.autocommit\n",
    "    dbapi_connection.autocommit = True\n",
    "    cursor = dbapi_connection.cursor()\n",
    "    cursor.execute(sql)\n",
    "    cursor.close()\n",
    "    dbapi_connection.autocommit = existing_autocommit"
   ]
  },
  {
   "cell_type": "markdown",
   "id": "5aba6c58-a280-47d8-aa0d-c22d695117f3",
   "metadata": {},
   "source": [
    "### Save Data"
   ]
  },
  {
   "cell_type": "code",
   "execution_count": 6,
   "id": "ae1f9247-c02d-43d5-8f06-1a5b465a9d7b",
   "metadata": {},
   "outputs": [
    {
     "data": {
      "text/plain": [
       "-1"
      ]
     },
     "execution_count": 6,
     "metadata": {},
     "output_type": "execute_result"
    }
   ],
   "source": [
    "df.to_sql(\"dt_daily\", con=engine, schema=db_schema, if_exists=\"append\")"
   ]
  },
  {
   "cell_type": "code",
   "execution_count": 19,
   "id": "7978bcd8-6aff-4033-9511-64a6d3625b6b",
   "metadata": {},
   "outputs": [
    {
     "data": {
      "text/plain": [
       "<Axes: xlabel='date_id'>"
      ]
     },
     "execution_count": 19,
     "metadata": {},
     "output_type": "execute_result"
    },
    {
     "data": {
      "image/png": "[encoded data removed]",
      "text/plain": [
       "<Figure size 640x480 with 1 Axes>"
      ]
     },
     "metadata": {},
     "output_type": "display_data"
    }
   ],
   "source": [
    "df.plot()"
   ]
  }
 ],
 "metadata": {
  "kernelspec": {
   "display_name": "Python 3 (ipykernel)",
   "language": "python",
   "name": "python3"
  },
  "language_info": {
   "codemirror_mode": {
    "name": "ipython",
    "version": 3
   },
   "file_extension": ".py",
   "mimetype": "text/x-python",
   "name": "python",
   "nbconvert_exporter": "python",
   "pygments_lexer": "ipython3",
   "version": "3.12.6"
  }
 },
 "nbformat": 4,
 "nbformat_minor": 5
}
