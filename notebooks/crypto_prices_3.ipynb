{
 "cells": [
  {
   "cell_type": "markdown",
   "id": "ae176c39-62d9-4508-a50d-f943f6b1eade",
   "metadata": {},
   "source": [
    "# How to get cryptocurrency prices via Python (Bitcoin, Ethereum)\n",
    "\n",
    "**Date:** Friday, December 6th, 2024  \n",
    "**URL:** https://www.youtube.com/watch?v=w6JqNyHNQnQ"
   ]
  },
  {
   "cell_type": "markdown",
   "id": "80896bca-524f-4be8-a3d9-f0dc54219508",
   "metadata": {},
   "source": [
    "## Notes\n",
    "\n",
    "- `yfinance` has changed since this video was made, so the code in the video is obsolete\n",
    "- `pandas_datareader` isn't really necessary"
   ]
  },
  {
   "cell_type": "markdown",
   "id": "5fd1e38d-cfbe-4fc4-8e95-b5897862c51c",
   "metadata": {},
   "source": [
    "## Code"
   ]
  },
  {
   "cell_type": "markdown",
   "id": "fa11b26f-17e6-4083-8d25-0188d4c51590",
   "metadata": {},
   "source": [
    "### Imports"
   ]
  },
  {
   "cell_type": "code",
   "execution_count": 1,
   "id": "10826313-5f8c-4d7b-ab17-3bee6775233c",
   "metadata": {},
   "outputs": [],
   "source": [
    "from datetime import datetime\n",
    "\n",
    "import pandas as pd\n",
    "import yfinance as yf\n",
    "# from pandas_datareader import data as pdr"
   ]
  },
  {
   "cell_type": "markdown",
   "id": "afe4705f-8160-4127-b492-65d6b42bce02",
   "metadata": {},
   "source": [
    "### Fetch data from Yahoo Finance"
   ]
  },
  {
   "cell_type": "code",
   "execution_count": 2,
   "id": "d37915b0-3ecc-4504-85bb-af6bbec2ccf2",
   "metadata": {},
   "outputs": [
    {
     "name": "stderr",
     "output_type": "stream",
     "text": [
      "\n",
      "*********************100%***********************]  1 of 1 completed"
     ]
    },
    {
     "data": {
      "text/html": [
       "<div>\n",
       "<style scoped>\n",
       "    .dataframe tbody tr th:only-of-type {\n",
       "        vertical-align: middle;\n",
       "    }\n",
       "\n",
       "    .dataframe tbody tr th {\n",
       "        vertical-align: top;\n",
       "    }\n",
       "\n",
       "    .dataframe thead th {\n",
       "        text-align: right;\n",
       "    }\n",
       "</style>\n",
       "<table border=\"1\" class=\"dataframe\">\n",
       "  <thead>\n",
       "    <tr style=\"text-align: right;\">\n",
       "      <th></th>\n",
       "      <th>Adj Close</th>\n",
       "      <th>Close</th>\n",
       "      <th>High</th>\n",
       "      <th>Low</th>\n",
       "      <th>Open</th>\n",
       "      <th>Volume</th>\n",
       "    </tr>\n",
       "    <tr>\n",
       "      <th>Date</th>\n",
       "      <th></th>\n",
       "      <th></th>\n",
       "      <th></th>\n",
       "      <th></th>\n",
       "      <th></th>\n",
       "      <th></th>\n",
       "    </tr>\n",
       "  </thead>\n",
       "  <tbody>\n",
       "    <tr>\n",
       "      <th>2014-09-17</th>\n",
       "      <td>457.334015</td>\n",
       "      <td>457.334015</td>\n",
       "      <td>468.174011</td>\n",
       "      <td>452.421997</td>\n",
       "      <td>465.864014</td>\n",
       "      <td>21056800</td>\n",
       "    </tr>\n",
       "    <tr>\n",
       "      <th>2014-09-18</th>\n",
       "      <td>424.440002</td>\n",
       "      <td>424.440002</td>\n",
       "      <td>456.859985</td>\n",
       "      <td>413.104004</td>\n",
       "      <td>456.859985</td>\n",
       "      <td>34483200</td>\n",
       "    </tr>\n",
       "    <tr>\n",
       "      <th>2014-09-19</th>\n",
       "      <td>394.795990</td>\n",
       "      <td>394.795990</td>\n",
       "      <td>427.834991</td>\n",
       "      <td>384.532013</td>\n",
       "      <td>424.102997</td>\n",
       "      <td>37919700</td>\n",
       "    </tr>\n",
       "  </tbody>\n",
       "</table>\n",
       "</div>"
      ],
      "text/plain": [
       "             Adj Close       Close        High         Low        Open  \\\n",
       "Date                                                                     \n",
       "2014-09-17  457.334015  457.334015  468.174011  452.421997  465.864014   \n",
       "2014-09-18  424.440002  424.440002  456.859985  413.104004  456.859985   \n",
       "2014-09-19  394.795990  394.795990  427.834991  384.532013  424.102997   \n",
       "\n",
       "              Volume  \n",
       "Date                  \n",
       "2014-09-17  21056800  \n",
       "2014-09-18  34483200  \n",
       "2014-09-19  37919700  "
      ]
     },
     "execution_count": 2,
     "metadata": {},
     "output_type": "execute_result"
    }
   ],
   "source": [
    "# ticker = \"BTC-CAD\"\n",
    "ticker = \"BTC-USD\"\n",
    "\n",
    "date_from = datetime(1970, 1, 1).date()\n",
    "date_thru = datetime.now().date()\n",
    "\n",
    "df = yf.download(ticker, start=date_from, end=date_thru, interval=\"1d\", multi_level_index=False)\n",
    "df.head(3)"
   ]
  },
  {
   "cell_type": "markdown",
   "id": "35137d31-864f-4711-8ec0-fd447a414d0d",
   "metadata": {},
   "source": [
    "### Adjust Columns\n",
    "- Drop `Adj Close`\n",
    "- Convert to lower case and remove spaces\n",
    "- Shorten column names where practical\n",
    "- Add column for ticker\n",
    "- Reorder"
   ]
  },
  {
   "cell_type": "code",
   "execution_count": 3,
   "id": "a258441b-0cfb-46ce-a0c3-0b6e608c87b1",
   "metadata": {},
   "outputs": [],
   "source": [
    "# Drop redundant columns (at least for crypto)\n",
    "df.drop(\"Adj Close\", axis=1, inplace=True)\n",
    "\n",
    "# Rename index\n",
    "df.index.name = \"date_id\"\n",
    "\n",
    "# Rename columns\n",
    "cols = [x.lower().replace(\" \", \"_\") for x in df.columns]\n",
    "df.columns = cols\n",
    "df.rename(columns={\n",
    "    \"close\": \"cls\",\n",
    "    \"high\": \"hi\",\n",
    "    \"low\": \"lo\", \n",
    "    \"open\": \"opn\",\n",
    "    \"volume\": \"vol\",\n",
    "}, inplace=True)\n",
    "\n",
    "# Add column for ticker\n",
    "df[\"tckr\"] = ticker\n",
    "\n",
    "# Re-order columns\n",
    "df = df[[\"tckr\", \"opn\", \"lo\", \"hi\", \"cls\", \"vol\",]]"
   ]
  },
  {
   "cell_type": "markdown",
   "id": "a171bda5-d462-43e0-ba87-fe03e39820fe",
   "metadata": {},
   "source": [
    "### Connect to Database"
   ]
  },
  {
   "cell_type": "code",
   "execution_count": 4,
   "id": "7b02dc11-5bb4-4b63-90bc-11934cb4a0a9",
   "metadata": {},
   "outputs": [],
   "source": [
    "import sqlalchemy as sa\n",
    "from sqlalchemy import create_engine, text"
   ]
  },
  {
   "cell_type": "code",
   "execution_count": 5,
   "id": "671132f6-527f-4706-b10e-4c387d3f9fa6",
   "metadata": {},
   "outputs": [],
   "source": [
    "db_url = \"postgresql+psycopg://localhost/patrick\"\n",
    "db_schema = \"btc_rates\"\n",
    "\n",
    "engine = create_engine(db_url, echo=False)\n",
    "\n",
    "@sa.event.listens_for(engine, \"connect\", insert=True)\n",
    "def set_search_path(dbapi_connection, connection_record):\n",
    "    \"\"\"\n",
    "    Set schema search path in database\n",
    "    \"\"\"\n",
    "    sql = f\"SET SESSION search_path TO {db_schema},public;\"\n",
    "    existing_autocommit = dbapi_connection.autocommit\n",
    "    dbapi_connection.autocommit = True\n",
    "    cursor = dbapi_connection.cursor()\n",
    "    cursor.execute(sql)\n",
    "    cursor.close()\n",
    "    dbapi_connection.autocommit = existing_autocommit"
   ]
  },
  {
   "cell_type": "markdown",
   "id": "5aba6c58-a280-47d8-aa0d-c22d695117f3",
   "metadata": {},
   "source": [
    "### Save Data"
   ]
  },
  {
   "cell_type": "code",
   "execution_count": 6,
   "id": "ae1f9247-c02d-43d5-8f06-1a5b465a9d7b",
   "metadata": {},
   "outputs": [
    {
     "data": {
      "text/plain": [
       "-1"
      ]
     },
     "execution_count": 6,
     "metadata": {},
     "output_type": "execute_result"
    }
   ],
   "source": [
    "df.to_sql(\"dt_daily\", con=engine, schema=db_schema, if_exists=\"append\")"
   ]
  },
  {
   "cell_type": "code",
   "execution_count": 8,
   "id": "7978bcd8-6aff-4033-9511-64a6d3625b6b",
   "metadata": {},
   "outputs": [
    {
     "data": {
      "text/plain": [
       "<Axes: xlabel='date_id'>"
      ]
     },
     "execution_count": 8,
     "metadata": {},
     "output_type": "execute_result"
    },
    {
     "data": {
      "image/png": "[encoded data removed]",
      "text/plain": [
       "<Figure size 640x480 with 1 Axes>"
      ]
     },
     "metadata": {},
     "output_type": "display_data"
    }
   ],
   "source": [
    "df.plot()"
   ]
  }
 ],
 "metadata": {
  "kernelspec": {
   "display_name": "Python 3 (ipykernel)",
   "language": "python",
   "name": "python3"
  },
  "language_info": {
   "codemirror_mode": {
    "name": "ipython",
    "version": 3
   },
   "file_extension": ".py",
   "mimetype": "text/x-python",
   "name": "python",
   "nbconvert_exporter": "python",
   "pygments_lexer": "ipython3",
   "version": "3.12.6"
  }
 },
 "nbformat": 4,
 "nbformat_minor": 5
}
