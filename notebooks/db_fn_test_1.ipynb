{
 "cells": [
  {
   "cell_type": "markdown",
   "id": "0a759069-ae2a-4cd0-ad6a-50efc1f6d59d",
   "metadata": {},
   "source": [
    "# Database Function Test #1"
   ]
  },
  {
   "cell_type": "markdown",
   "id": "2a8ae117-2d63-438e-8ac6-85ee0750ac2d",
   "metadata": {},
   "source": [
    "## Objective\n",
    "\n",
    "To determine if a Pandas DataFrame can be sent to a PostgreSQL function, using the `to_sql` method"
   ]
  },
  {
   "cell_type": "markdown",
   "id": "288eb6e9-92aa-4aea-87a7-274d57c3b46a",
   "metadata": {},
   "source": [
    "## Steps\n",
    "\n",
    "1. Create a table\n",
    "2. Create a PostgreSQL function that INSERTs into the table\n",
    "3. Create a DataFrame with data to be added to the table\n",
    "4. Use the `to_sql` function, specifying the function name, where a table would normally be used"
   ]
  },
  {
   "cell_type": "markdown",
   "id": "367855e7-5239-492e-8893-4d81f509e28a",
   "metadata": {},
   "source": [
    "### Preparation"
   ]
  },
  {
   "cell_type": "markdown",
   "id": "d6c64fce-14c6-401e-8614-1198c7212e24",
   "metadata": {},
   "source": [
    "#### Imports"
   ]
  },
  {
   "cell_type": "code",
   "execution_count": 2,
   "id": "f36736ef-50e8-4658-b3ce-9823b0b7b424",
   "metadata": {},
   "outputs": [],
   "source": [
    "import pandas as pd\n",
    "import sqlalchemy as sa\n",
    "from sqlalchemy import create_engine, text"
   ]
  },
  {
   "cell_type": "markdown",
   "id": "ef94573a-87f2-4ba2-a608-07ff33adac26",
   "metadata": {},
   "source": [
    "#### Connect to Database"
   ]
  },
  {
   "cell_type": "code",
   "execution_count": 4,
   "id": "7f1f5fd6-58a7-4072-bf1b-e8cb29181bc9",
   "metadata": {},
   "outputs": [],
   "source": [
    "db_url = \"postgresql+psycopg://localhost/patrick\"\n",
    "db_schema = \"btc_rates\"\n",
    "\n",
    "engine = create_engine(db_url, echo=True)\n",
    "\n",
    "@sa.event.listens_for(engine, \"connect\", insert=True)\n",
    "def set_search_path(dbapi_connection, connection_record):\n",
    "    \"\"\"\n",
    "    Set schema search path in database\n",
    "    \"\"\"\n",
    "    sql = f\"SET SESSION search_path TO {db_schema},public;\"\n",
    "    existing_autocommit = dbapi_connection.autocommit\n",
    "    dbapi_connection.autocommit = True\n",
    "    cursor = dbapi_connection.cursor()\n",
    "    cursor.execute(sql)\n",
    "    cursor.close()\n",
    "    dbapi_connection.autocommit = existing_autocommit"
   ]
  },
  {
   "cell_type": "markdown",
   "id": "291fc301-c8f1-4572-bedf-b28643af92db",
   "metadata": {},
   "source": [
    "### Step One: Create Table"
   ]
  },
  {
   "cell_type": "code",
   "execution_count": 12,
   "id": "79b50fe9-b6e3-47e1-b828-3ce43eaaa456",
   "metadata": {},
   "outputs": [
    {
     "name": "stdout",
     "output_type": "stream",
     "text": [
      "2024-12-07 09:47:35,222 INFO sqlalchemy.engine.Engine BEGIN (implicit)\n",
      "2024-12-07 09:47:35,225 INFO sqlalchemy.engine.Engine DROP TABLE IF EXISTS dt_test_1;\n",
      "CREATE TABLE dt_test_1(id INT PRIMARY KEY, dt TIMESTAMPTZ, msg TEXT);\n",
      "2024-12-07 09:47:35,227 INFO sqlalchemy.engine.Engine [cached since 244.4s ago] {}\n",
      "2024-12-07 09:47:35,235 INFO sqlalchemy.engine.Engine COMMIT\n"
     ]
    }
   ],
   "source": [
    "tbl = \"dt_test_1\"\n",
    "sqls = [\n",
    "    f\"DROP TABLE IF EXISTS {tbl};\",\n",
    "    f\"CREATE TABLE {tbl}(id INT PRIMARY KEY, dt TIMESTAMPTZ, msg TEXT);\",\n",
    "]\n",
    "sql = \"\\n\".join(sqls)\n",
    "\n",
    "with engine.connect() as conn:\n",
    "    result = conn.execute(text(sql))\n",
    "    conn.commit()"
   ]
  },
  {
   "cell_type": "code",
   "execution_count": 13,
   "id": "3a5204e7-00a0-431c-a019-2e99bf75c84c",
   "metadata": {},
   "outputs": [
    {
     "data": {
      "text/plain": [
       "-1"
      ]
     },
     "execution_count": 13,
     "metadata": {},
     "output_type": "execute_result"
    }
   ],
   "source": [
    "result.rowcount"
   ]
  },
  {
   "cell_type": "markdown",
   "id": "7774a7cd-11e0-4c36-8f0d-2aaa453e31d8",
   "metadata": {},
   "source": [
    "## Conclusion\n",
    "\n",
    "I didn't need to complete this experiment to verify that INSERT only works with tables (not functions)"
   ]
  },
  {
   "cell_type": "code",
   "execution_count": null,
   "id": "c8aa47c8-790b-478b-a5c1-f91881ab60a3",
   "metadata": {},
   "outputs": [],
   "source": []
  }
 ],
 "metadata": {
  "kernelspec": {
   "display_name": "Python 3 (ipykernel)",
   "language": "python",
   "name": "python3"
  },
  "language_info": {
   "codemirror_mode": {
    "name": "ipython",
    "version": 3
   },
   "file_extension": ".py",
   "mimetype": "text/x-python",
   "name": "python",
   "nbconvert_exporter": "python",
   "pygments_lexer": "ipython3",
   "version": "3.12.6"
  }
 },
 "nbformat": 4,
 "nbformat_minor": 5
}
